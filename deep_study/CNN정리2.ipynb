{
 "cells": [
  {
   "cell_type": "code",
   "execution_count": null,
   "metadata": {},
   "outputs": [],
   "source": [
    "from IPython.display import Image"
   ]
  },
  {
   "cell_type": "markdown",
   "metadata": {},
   "source": [
    "# 1 딥러닝 이야기"
   ]
  },
  {
   "cell_type": "markdown",
   "metadata": {},
   "source": [
    "## 1.1 Classification vs Clustering"
   ]
  },
  {
   "cell_type": "code",
   "execution_count": null,
   "metadata": {},
   "outputs": [],
   "source": []
  },
  {
   "cell_type": "markdown",
   "metadata": {},
   "source": [
    "- Classification :\n",
    " > - 주어진 데이터를 주어진 라벨(클래스)에 의해 분류하는 법을 학습\n",
    "\n",
    "- Clustering :\n",
    " > - 주어진 데이터를 데이터의 특징에 의해 스스로 클래스로 분류"
   ]
  },
  {
   "cell_type": "markdown",
   "metadata": {},
   "source": [
    "## 1.2 Classification vs Regression"
   ]
  },
  {
   "cell_type": "markdown",
   "metadata": {},
   "source": [
    "- Classification :\n",
    " > - 주어진 데이터가 어떤 라벨(클래스)인지 예측하는 것.\n",
    " > - discrete 한 output을 가짐\n",
    "\n",
    "- Regression :\n",
    " > - 주어진 데이터의 경향성을 파악하고 함수를 예측 하는 것.\n",
    " > - 시계열의 미래의 값을 예측 가능\n",
    " > - 연속적인 output을 가짐"
   ]
  },
  {
   "cell_type": "markdown",
   "metadata": {},
   "source": [
    "## 1.3 Class vs feature"
   ]
  },
  {
   "cell_type": "code",
   "execution_count": null,
   "metadata": {},
   "outputs": [],
   "source": []
  },
  {
   "cell_type": "markdown",
   "metadata": {},
   "source": [
    "- Class의 수 :\n",
    " > - Binary class와 multi class의 경우등. 분류하고자 하는 class에 따라서 다른 접근법 사용\n",
    "\n",
    "- Data Feature의 특징 : \n",
    " > - Data의 분포 특성에 따라서 더 적합한 classifier를 사용 하는 것이 바람직함"
   ]
  },
  {
   "cell_type": "markdown",
   "metadata": {},
   "source": [
    "## 1.4 Classification using DeepLearning"
   ]
  },
  {
   "cell_type": "code",
   "execution_count": null,
   "metadata": {},
   "outputs": [],
   "source": []
  },
  {
   "cell_type": "markdown",
   "metadata": {},
   "source": [
    "- 전처리 : data에서 유의미한 특징(feature)들을 뽑아내어 input으로 넣는 과정. (머신러닝은 필수적)\n",
    "- End to End : 전처리 과정, feature engineering 없이 데이터만 넣으면 알아서 학습하여 input을 넣으면 output이 나오는 모델"
   ]
  },
  {
   "cell_type": "markdown",
   "metadata": {},
   "source": [
    "## 1.5 Deep Learning"
   ]
  },
  {
   "cell_type": "code",
   "execution_count": null,
   "metadata": {},
   "outputs": [],
   "source": []
  },
  {
   "cell_type": "markdown",
   "metadata": {},
   "source": [
    "## 1.6 Deep learning Classification"
   ]
  },
  {
   "cell_type": "code",
   "execution_count": null,
   "metadata": {},
   "outputs": [],
   "source": []
  },
  {
   "cell_type": "markdown",
   "metadata": {},
   "source": [
    "## 1.7 Deep Learning으로 이미지를 다룰때의 문제"
   ]
  },
  {
   "cell_type": "code",
   "execution_count": null,
   "metadata": {},
   "outputs": [],
   "source": []
  },
  {
   "cell_type": "markdown",
   "metadata": {},
   "source": [
    "## 1.8 그래서 CNN"
   ]
  },
  {
   "cell_type": "code",
   "execution_count": null,
   "metadata": {},
   "outputs": [],
   "source": []
  },
  {
   "cell_type": "markdown",
   "metadata": {},
   "source": [
    "### Feature extraction\n",
    "- 특징을 추출하기 위한 단계 -> Receptive field, Convolution filter\n",
    "### Shift and distortion invariance\n",
    "- Topology 변화에 영향을 받지 않기 위한 단계 -> subsampling(max pooling)\n",
    "### Classification\n",
    "- 분류기 단계 -> fully connected output"
   ]
  },
  {
   "cell_type": "markdown",
   "metadata": {},
   "source": [
    "## 1.9 그래서 CNN이라니까"
   ]
  },
  {
   "cell_type": "code",
   "execution_count": null,
   "metadata": {},
   "outputs": [],
   "source": []
  },
  {
   "cell_type": "markdown",
   "metadata": {},
   "source": [
    "## 1.10 LeNet"
   ]
  },
  {
   "cell_type": "code",
   "execution_count": null,
   "metadata": {},
   "outputs": [],
   "source": []
  },
  {
   "cell_type": "markdown",
   "metadata": {},
   "source": [
    "## 1.11 LeNet"
   ]
  },
  {
   "cell_type": "code",
   "execution_count": null,
   "metadata": {},
   "outputs": [],
   "source": []
  },
  {
   "cell_type": "markdown",
   "metadata": {},
   "source": [
    "## 1.12 AlexNet"
   ]
  },
  {
   "cell_type": "code",
   "execution_count": null,
   "metadata": {},
   "outputs": [],
   "source": []
  },
  {
   "cell_type": "markdown",
   "metadata": {},
   "source": [
    "## 1.13 AlexNet"
   ]
  },
  {
   "cell_type": "code",
   "execution_count": null,
   "metadata": {},
   "outputs": [],
   "source": []
  },
  {
   "cell_type": "markdown",
   "metadata": {},
   "source": [
    "## 1.14 AlexNet"
   ]
  },
  {
   "cell_type": "code",
   "execution_count": null,
   "metadata": {},
   "outputs": [],
   "source": []
  },
  {
   "cell_type": "markdown",
   "metadata": {},
   "source": [
    "- 2.ReLU 함수의 사용\n",
    " > - 활성화 함수로는 LeNet-5 에서 사용되었던 Tanh 함수 대신에 ReLU 함수가 사용\n",
    " > - 같은 정확도를 유지하면서 Tanh을 사용하는 것보다 6배나 빠르다고 한다"
   ]
  },
  {
   "cell_type": "code",
   "execution_count": null,
   "metadata": {},
   "outputs": [],
   "source": []
  },
  {
   "cell_type": "markdown",
   "metadata": {},
   "source": [
    "- 3. Dropout의 사용\n",
    " > - Overfitting을 방지하기위한 dropout 사용\n",
    " > - dropout이란 fully-connected layer의 뉴런 중 일부를 생략하면서 학습을 진행. 몇몇 뉴런 중 일부를 바꿔버린다.\n",
    " > - dropout은 훈련시에 적용하며 테스트시에는 모든 뉴련을 사용한다."
   ]
  },
  {
   "cell_type": "markdown",
   "metadata": {},
   "source": [
    "## 1.15 AlexNet"
   ]
  },
  {
   "cell_type": "code",
   "execution_count": null,
   "metadata": {},
   "outputs": [],
   "source": []
  },
  {
   "cell_type": "markdown",
   "metadata": {},
   "source": [
    "- 4. Overlapping Pooling\n",
    " > - LeNet-5의 경우 평균 풀링(average pooling)이 사용된 반면, AlexNet에서는 최대 풀링(Max pooling)이 사용.\n",
    " > - LeNet-5는 non-overlapping 평균 풀링을 사용하는 것이고, AlexNet은 overlapping 최대 풀링을 사용한 것이다."
   ]
  },
  {
   "cell_type": "markdown",
   "metadata": {},
   "source": [
    "## 1.16 AlexNet"
   ]
  },
  {
   "cell_type": "markdown",
   "metadata": {},
   "source": [
    "- 5. Data Augmentation\n",
    " > - 과적합을 막기 위해 data augmentation이란 방법을 통해 데이터의 양을 늘렸다.\n",
    " > - 이미지를 좌우 반전시키거나, AlexNet이 허용하는 입력 이미지 크기인 224 x 224 x 3 보다 좀 더 큰 이미지를 조금씩 다르게 잘라서 224 x 224 x 3으로 만들어줘서 여러장을 만들어낸다."
   ]
  },
  {
   "cell_type": "markdown",
   "metadata": {},
   "source": [
    "# 2 다음 세대로~ Inception"
   ]
  },
  {
   "cell_type": "markdown",
   "metadata": {},
   "source": [
    "## 2.1 Deeper, Wider?"
   ]
  },
  {
   "cell_type": "markdown",
   "metadata": {},
   "source": [
    "### Deeper, Winder Network\n",
    "#### 깊고 넓은 네트워크?\n",
    "- 1. 학습 시키는데 오래걸린다. -> 연산량이 많다. 파라메터가 많다.\n",
    " > - Q1. 파라메터 수를 어떻게 하면 줄일 숫 있을까?\n",
    " >>  -> 1x1 conv, Tensor factorization\n",
    " > - Q2. 연산을 효율적으로 하려면 어떻게 해야할까?\n",
    " >>  -> matrix 연산이 dense 해야 한다."
   ]
  },
  {
   "cell_type": "markdown",
   "metadata": {},
   "source": [
    "## 2.2 더 깊은 …"
   ]
  },
  {
   "cell_type": "markdown",
   "metadata": {},
   "source": [
    "- 2. 학습이 어렵다. -> gradient vanishing, over fitting\n",
    " > - Q3. 깊은 layer까지 정보가 전달되려면 어떻게 해야할까요?\n",
    " >>  -> auxilliary layer\n",
    " > - Q4. Overfitting이 덜되는 general한 구조는 어떻게 만들어야 할까?\n",
    " >>  -> sparse 한 convolution"
   ]
  },
  {
   "cell_type": "markdown",
   "metadata": {},
   "source": [
    "## 2.3 Inception Module"
   ]
  },
  {
   "cell_type": "code",
   "execution_count": null,
   "metadata": {},
   "outputs": [],
   "source": []
  },
  {
   "cell_type": "markdown",
   "metadata": {},
   "source": [
    "## 2.4 Inception V1 - GoogLeNet"
   ]
  },
  {
   "cell_type": "code",
   "execution_count": null,
   "metadata": {},
   "outputs": [],
   "source": []
  },
  {
   "cell_type": "markdown",
   "metadata": {},
   "source": [
    "## 2.5 Auxiliary Classifier"
   ]
  },
  {
   "cell_type": "code",
   "execution_count": null,
   "metadata": {},
   "outputs": [],
   "source": []
  },
  {
   "cell_type": "markdown",
   "metadata": {},
   "source": [
    "## 2.6 Inception V2"
   ]
  },
  {
   "cell_type": "code",
   "execution_count": null,
   "metadata": {},
   "outputs": [],
   "source": []
  },
  {
   "cell_type": "markdown",
   "metadata": {},
   "source": [
    "## 2.7 Inception V3"
   ]
  },
  {
   "cell_type": "markdown",
   "metadata": {},
   "source": []
  }
 ],
 "metadata": {
  "kernelspec": {
   "display_name": "Python 3.8.10 ('tmp')",
   "language": "python",
   "name": "python3"
  },
  "language_info": {
   "codemirror_mode": {
    "name": "ipython",
    "version": 3
   },
   "file_extension": ".py",
   "mimetype": "text/x-python",
   "name": "python",
   "nbconvert_exporter": "python",
   "pygments_lexer": "ipython3",
   "version": "3.8.10"
  },
  "orig_nbformat": 4,
  "vscode": {
   "interpreter": {
    "hash": "d81af2821ad931ed5a8d864ba6e23cf7896a00e28685b62e5614689c1e8e2d85"
   }
  }
 },
 "nbformat": 4,
 "nbformat_minor": 2
}
